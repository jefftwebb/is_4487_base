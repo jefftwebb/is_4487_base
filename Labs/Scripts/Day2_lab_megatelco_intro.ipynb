{
  "cells": [
    {
      "cell_type": "markdown",
      "metadata": {
        "id": "tWcbgT-dwiHW"
      },
      "source": [
        "# IS 4487 Lab 2\n",
        "\n",
        "## Outline\n",
        "\n",
        "- Loading installed packages\n",
        "- Inspect data\n",
        "- Explore plot types\n",
        "\n",
        "<a href=\"https://colab.research.google.com/github/Stan-Pugsley/is_4487_base/blob/main/Labs/Scripts/lab2_megatelco_intro.ipynb\" target=\"_parent\"><img src=\"https://colab.research.google.com/assets/colab-badge.svg\" alt=\"Open In Colab\"/></a>\n",
        ""
      ]
    },
    {
      "cell_type": "markdown",
      "metadata": {
        "id": "Z7vTdattwiHX"
      },
      "source": [
        "##Load Libraries\n",
        "\n",
        "In this class we will be using\n",
        "- Pandas\n",
        "- Scikitlearn\n",
        "- Matplotlib\n",
        "\n",
        "We can pull sample data from\n",
        "- statsmodels.api"
      ]
    },
    {
      "cell_type": "code",
      "execution_count": null,
      "metadata": {
        "id": "elxWg3dbwiHX"
      },
      "outputs": [],
      "source": [
        "import pandas as pd\n",
        "import matplotlib as mpl\n",
        "import sklearn as sl"
      ]
    },
    {
      "cell_type": "markdown",
      "metadata": {
        "id": "jKva144UwiHX"
      },
      "source": [
        "## Getting data into Pandas\n",
        "\n",
        "In this case we will load the Megatelco data directly from Github.\n",
        "\n",
        "**Note:** you will need to enter a code supplied by Google in the next step.\n"
      ]
    },
    {
      "cell_type": "code",
      "execution_count": null,
      "metadata": {
        "id": "sRsCkY3DwiHX"
      },
      "outputs": [],
      "source": [
        "from google.colab import drive\n",
        "drive.mount('/content/gdrive', force_remount=True)\n",
        "\n",
        "df = pd.read_csv (r'/content/gdrive/MyDrive/Colab Notebooks/megatelco_leave_survey.csv')\n",
        "\n",
        "print (df)"
      ]
    },
    {
      "cell_type": "code",
      "execution_count": null,
      "metadata": {
        "id": "Jm0ZJ_DLwiHX"
      },
      "outputs": [],
      "source": [
        "#look at the top rows\n",
        "df.head(10)"
      ]
    },
    {
      "cell_type": "code",
      "execution_count": null,
      "metadata": {
        "id": "uTC0gUrdwiHX"
      },
      "outputs": [],
      "source": [
        "#look at last rows\n",
        "df.tail(10)"
      ]
    },
    {
      "cell_type": "code",
      "execution_count": null,
      "metadata": {
        "id": "XI0YKWKLwiHX"
      },
      "outputs": [],
      "source": [
        "#get a summary of the dataset\n",
        "df.describe()"
      ]
    },
    {
      "cell_type": "code",
      "execution_count": null,
      "metadata": {
        "id": "rtVlwwSuwiHY"
      },
      "outputs": [],
      "source": [
        "#look at the datatypes\n",
        "df.info()"
      ]
    },
    {
      "cell_type": "markdown",
      "metadata": {
        "id": "Uop8hJaKwiHY"
      },
      "source": [
        "## Clean up the data\n",
        "Did you notice anything unusual about the \"house\" amounts?\n",
        "\n",
        "How about the handset price and income?"
      ]
    },
    {
      "cell_type": "code",
      "execution_count": null,
      "metadata": {
        "id": "5DPPx4ugwiHY"
      },
      "outputs": [],
      "source": [
        "df_clean = df[(df['house'] > 0) & (df['income'] > 0) & (df['handset_price'] < 1000)]\n",
        "df_clean.describe()"
      ]
    },
    {
      "cell_type": "markdown",
      "metadata": {
        "id": "AM1SbRc-wiHY"
      },
      "source": [
        "# Add Derived Attribute\n",
        "\n",
        "Add a column with the income in K (thousands)"
      ]
    },
    {
      "cell_type": "code",
      "execution_count": null,
      "metadata": {
        "id": "IJ1T_4WvwiHY"
      },
      "outputs": [],
      "source": [
        "df_clean['income_k'] = (df_clean['income']/1000).round(2)\n",
        "df_clean.head()"
      ]
    },
    {
      "cell_type": "markdown",
      "metadata": {
        "id": "VR26IRaRwiHY"
      },
      "source": [
        "## Summarize the Data\n",
        " What is average house price at the two levels of leave?\n",
        "\n",
        " Conclusion?  Stayers have substantially more expensive homes."
      ]
    },
    {
      "cell_type": "code",
      "execution_count": null,
      "metadata": {
        "id": "YZYCr-gZwiHY"
      },
      "outputs": [],
      "source": [
        "df_clean[['house','leave']].groupby('leave').mean().round(2)"
      ]
    },
    {
      "cell_type": "markdown",
      "metadata": {
        "id": "sFXgFujIwiHY"
      },
      "source": [
        "## Additional Data Preparation\n",
        "\n",
        "➡️ Assignment Tasks\n",
        "- Add at least two additional steps to clean or filter the dataset"
      ]
    },
    {
      "cell_type": "code",
      "execution_count": null,
      "metadata": {
        "id": "PyFpPLDgwiHY"
      },
      "outputs": [],
      "source": []
    },
    {
      "cell_type": "markdown",
      "metadata": {
        "id": "kYTPZhtYwiHY"
      },
      "source": [
        "## Data Visualization\n",
        "\n",
        "➡️ Assignment Tasks\n",
        "- Add at least two charts to show a summary of any major trends"
      ]
    },
    {
      "cell_type": "code",
      "execution_count": null,
      "metadata": {
        "id": "ZTqxiVKkwiHY"
      },
      "outputs": [],
      "source": []
    }
  ],
  "metadata": {
    "language_info": {
      "name": "python"
    },
    "colab": {
      "provenance": []
    },
    "kernelspec": {
      "name": "python3",
      "display_name": "Python 3"
    }
  },
  "nbformat": 4,
  "nbformat_minor": 0
}