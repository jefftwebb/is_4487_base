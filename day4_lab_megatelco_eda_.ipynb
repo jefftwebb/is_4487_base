{
  "cells": [
    {
      "cell_type": "markdown",
      "metadata": {
        "id": "view-in-github",
        "colab_type": "text"
      },
      "source": [
        "<a href=\"https://colab.research.google.com/github/jefftwebb/is_4487_base/blob/main/day4_lab_megatelco_eda_.ipynb\" target=\"_parent\"><img src=\"https://colab.research.google.com/assets/colab-badge.svg\" alt=\"Open In Colab\"/></a>"
      ]
    },
    {
      "cell_type": "markdown",
      "metadata": {
        "id": "p_Yu45OYdj3Y"
      },
      "source": [
        "# Day 4 Lab, IS 4487\n",
        "\n",
        "## Outline\n",
        "\n",
        " - Identify the target variable for an analysis based on the business problem.\n",
        " - Compute the mean of a binary variable.\n",
        " - Plot a numeric (or count) variable against a categorical variable.\n",
        " - Calculate a count (and a proportion) for a categorical variable and visualize the result into a plot."
      ]
    },
    {
      "cell_type": "markdown",
      "metadata": {
        "id": "UE93RwXhgiJS"
      },
      "source": [
        "##Load Libraries"
      ]
    },
    {
      "cell_type": "code",
      "execution_count": null,
      "metadata": {
        "id": "JYRZY5n0gfNe"
      },
      "outputs": [],
      "source": [
        "import pandas as pd\n",
        "import matplotlib as mpl\n",
        "import sklearn as sl"
      ]
    },
    {
      "cell_type": "markdown",
      "metadata": {
        "id": "bREaXo8jfu-O"
      },
      "source": [
        "## Load and Clean Data\n"
      ]
    },
    {
      "cell_type": "code",
      "execution_count": null,
      "metadata": {
        "id": "6_FwprxVgR0e"
      },
      "outputs": [],
      "source": [
        "df = pd.read_csv(\"https://raw.githubusercontent.com/jefftwebb/is_4487_base/dd870389117d5b24eee7417d5378d80496555130/Labs/DataSets/megatelco_leave_survey.csv\")\n"
      ]
    },
    {
      "cell_type": "code",
      "execution_count": null,
      "metadata": {
        "id": "gSvao0dlhlNn"
      },
      "outputs": [],
      "source": [
        "#look at the top rows\n",
        "df.head(10)"
      ]
    },
    {
      "cell_type": "code",
      "execution_count": null,
      "metadata": {
        "id": "AK7y336xJ3-6"
      },
      "outputs": [],
      "source": [
        "#look at the datatypes\n",
        "df.info()"
      ]
    },
    {
      "cell_type": "code",
      "execution_count": null,
      "metadata": {
        "id": "udYgkb6I3SJo"
      },
      "outputs": [],
      "source": [
        "#describe the data before cleaning it, clean it, then describe again\n",
        "df.describe()"
      ]
    },
    {
      "cell_type": "code",
      "source": [
        "pd.options.mode.copy_on_write = True\n",
        "\n",
        "df_clean = df.query('house > 0 & income > 0 & handset_price < 1000')\n",
        "\n",
        "# or df_clean = df_clean = df.loc[(df['house'] > 0) & (df['income'] > 0) & (df['handset_price'] < 1000)]\n",
        "\n",
        "df_clean.describe()"
      ],
      "metadata": {
        "id": "pFkEZDN-hKVT"
      },
      "execution_count": null,
      "outputs": []
    },
    {
      "cell_type": "code",
      "execution_count": null,
      "metadata": {
        "id": "MJ5QvXDueIvM"
      },
      "outputs": [],
      "source": []
    },
    {
      "cell_type": "markdown",
      "metadata": {
        "id": "uathUi6xfDPf"
      },
      "source": [
        "## Calculate distribution of the outcome  \n",
        "\n",
        "What is the proportion of people who churned? Two ways (among others) of doing this.\n",
        "\n",
        "- Using `count()`:"
      ]
    },
    {
      "cell_type": "code",
      "source": [
        "df_clean.loc[df_clean['leave'] == \"LEAVE\", 'leave'].count() / df_clean['leave'].count()"
      ],
      "metadata": {
        "id": "8n7RYSjYvm_f"
      },
      "execution_count": null,
      "outputs": []
    },
    {
      "cell_type": "markdown",
      "source": [
        "- Using `value_counts()`:"
      ],
      "metadata": {
        "id": "uiWABl8vxGar"
      }
    },
    {
      "cell_type": "code",
      "source": [
        "df_clean[\"leave\"].value_counts()"
      ],
      "metadata": {
        "id": "jvM7fSyMjpvh"
      },
      "execution_count": null,
      "outputs": []
    },
    {
      "cell_type": "markdown",
      "source": [
        "- Using value_counts() with the `normalize = True` argument (to get a proportion):"
      ],
      "metadata": {
        "id": "P8tsqPjYxP0n"
      }
    },
    {
      "cell_type": "code",
      "source": [
        "df_clean[\"leave\"].value_counts(normalize = True)"
      ],
      "metadata": {
        "id": "W-cmbMrjlz__"
      },
      "execution_count": null,
      "outputs": []
    },
    {
      "cell_type": "markdown",
      "metadata": {
        "id": "SoJLJMlceORN"
      },
      "source": [
        "# Create basic charts\n",
        "\n",
        "- Bar chart\n",
        "- Histogram\n",
        "- Box plot\n",
        "- Scatter plot"
      ]
    },
    {
      "cell_type": "code",
      "execution_count": null,
      "metadata": {
        "id": "WBH7aRXbOUf4"
      },
      "outputs": [],
      "source": [
        "#Bar chart\n",
        "df_clean[['house','leave']].groupby('leave').mean('house').plot.bar()\n"
      ]
    },
    {
      "cell_type": "code",
      "execution_count": null,
      "metadata": {
        "id": "eVOSIP8SeYg3"
      },
      "outputs": [],
      "source": [
        "#Histogram\n",
        "hist = df_clean['house'].plot.hist(bins=10,title='House Price (in millions)')\n"
      ]
    },
    {
      "cell_type": "code",
      "execution_count": null,
      "metadata": {
        "id": "SFOTNW70MbI9"
      },
      "outputs": [],
      "source": [
        "#Boxplot\n",
        "df_clean[['leave','house']].boxplot(by='leave')"
      ]
    },
    {
      "cell_type": "markdown",
      "metadata": {
        "id": "YIfa0vJiMquy"
      },
      "source": [
        "# Explore Relationships\n",
        "\n",
        "###How does College affect leaving?"
      ]
    },
    {
      "cell_type": "code",
      "execution_count": null,
      "metadata": {
        "id": "F9kP2CPAMdQy"
      },
      "outputs": [],
      "source": [
        "#Bar chart with counts\n",
        "df_clean[['college','leave']].groupby('leave').count().plot.bar()"
      ]
    },
    {
      "cell_type": "code",
      "execution_count": null,
      "metadata": {
        "id": "TpUqqg_rND1c"
      },
      "outputs": [],
      "source": [
        "#Bar chart with percentage\n",
        "college_summary = df_clean[['college','leave']].groupby('leave').count()\n",
        "\n",
        "college_summary['college'] = (college_summary['college'] / college_summary['college'].sum()) * 100\n",
        "#college_summary.head()\n",
        "college_summary.plot.bar()"
      ]
    },
    {
      "cell_type": "markdown",
      "metadata": {
        "id": "V7Rj5IqGP0kL"
      },
      "source": [
        "### How does phone price affect leaving?"
      ]
    },
    {
      "cell_type": "code",
      "execution_count": null,
      "metadata": {
        "id": "rnls4KjPP4jW"
      },
      "outputs": [],
      "source": [
        "#Bar chart with mean price\n",
        "handset_price_summary = df_clean[['handset_price','leave']].groupby('leave').mean(['handset_price'])\n",
        "#handset_price_summary.head()\n",
        "\n",
        "handset_price_summary.plot.bar()"
      ]
    },
    {
      "cell_type": "markdown",
      "metadata": {
        "id": "jDzW72IVQPkW"
      },
      "source": [
        "### How about considering leaving?"
      ]
    },
    {
      "cell_type": "code",
      "execution_count": null,
      "metadata": {
        "id": "Ht12Gx13QSzO"
      },
      "outputs": [],
      "source": [
        "#Bar chart with percentage\n",
        "plan = df_clean[['considering_change_of_plan','leave']].groupby('leave').count()\n",
        "\n",
        "plan['considering_change_of_plan'] = (plan['considering_change_of_plan'] / plan['considering_change_of_plan'].sum()) * 100\n",
        "\n",
        "plan.plot.bar()"
      ]
    },
    {
      "cell_type": "markdown",
      "metadata": {
        "id": "_SdetdcOj7po"
      },
      "source": [
        "## Create a Pair Plot\n",
        "➡️ Assignment Tasks\n",
        "- Import seaborn\n",
        "- Create a Seaborn \"pairplot\" using all variables, with the color determine by \"leave\"\n",
        "- Display the plot"
      ]
    },
    {
      "cell_type": "code",
      "execution_count": null,
      "metadata": {
        "id": "O6DoWNgUeIvN"
      },
      "outputs": [],
      "source": [
        "#pair plot"
      ]
    },
    {
      "cell_type": "markdown",
      "source": [
        "## Additional Cleanup\n",
        "\n",
        "➡️ Assignment Tasks\n",
        "\n",
        "- Remove any records with null values from the dataframe"
      ],
      "metadata": {
        "id": "MndFvmzLxy7z"
      }
    },
    {
      "cell_type": "code",
      "execution_count": null,
      "metadata": {
        "id": "F134s-qYeIvN"
      },
      "outputs": [],
      "source": [
        "\n"
      ]
    },
    {
      "cell_type": "markdown",
      "metadata": {
        "id": "EnkBz6ObeIvN"
      },
      "source": [
        "## Summarize Data\n",
        "\n",
        "➡️ Assignment Tasks\n",
        "- Create a second set of charts that include the outlier values (house, income, price).   How do the outliers affect the values in the charts?"
      ]
    },
    {
      "cell_type": "code",
      "execution_count": null,
      "metadata": {
        "id": "Z4x1tuQNeIvN"
      },
      "outputs": [],
      "source": [
        "# house price"
      ]
    },
    {
      "cell_type": "code",
      "execution_count": null,
      "metadata": {
        "id": "ik4ifTH4eIvN"
      },
      "outputs": [],
      "source": [
        "# income"
      ]
    },
    {
      "cell_type": "code",
      "execution_count": null,
      "metadata": {
        "id": "CqmyVakueIvN"
      },
      "outputs": [],
      "source": [
        "# price"
      ]
    }
  ],
  "metadata": {
    "colab": {
      "provenance": [],
      "toc_visible": true,
      "include_colab_link": true
    },
    "kernelspec": {
      "display_name": "Python 3",
      "name": "python3"
    },
    "language_info": {
      "name": "python"
    }
  },
  "nbformat": 4,
  "nbformat_minor": 0
}